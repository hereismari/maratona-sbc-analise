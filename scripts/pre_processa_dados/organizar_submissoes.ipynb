{
 "cells": [
  {
   "cell_type": "markdown",
   "metadata": {},
   "source": [
    "# Organizar submissoes\n",
    "\n",
    "\n",
    "\n",
    "## Dependências"
   ]
  },
  {
   "cell_type": "code",
   "execution_count": 10,
   "metadata": {},
   "outputs": [],
   "source": [
    "# Python 3.x\n",
    "import pandas as pd\n",
    "import numpy as np\n",
    "import os\n",
    "\n",
    "import sys\n",
    "# to import utils\n",
    "sys.path.append('../')\n",
    "import utils"
   ]
  },
  {
   "cell_type": "code",
   "execution_count": 11,
   "metadata": {},
   "outputs": [],
   "source": [
    "def get_problem_letter(row):\n",
    "    return row[0]"
   ]
  },
  {
   "cell_type": "code",
   "execution_count": 12,
   "metadata": {},
   "outputs": [],
   "source": [
    "def get_answer_bin(row):\n",
    "    if \"NO\" in row:\n",
    "        return 0\n",
    "    else:\n",
    "        return 1"
   ]
  },
  {
   "cell_type": "code",
   "execution_count": 44,
   "metadata": {},
   "outputs": [],
   "source": [
    "def get_team_name(row, team_names):\n",
    "    if row is None:\n",
    "        return row\n",
    "\n",
    "    for name in team_names:\n",
    "        if str(row) in name:\n",
    "            return name\n",
    "    return row"
   ]
  },
  {
   "cell_type": "code",
   "execution_count": 126,
   "metadata": {},
   "outputs": [],
   "source": [
    "from string import ascii_uppercase\n",
    "\n",
    "def calculate_penalty(df):\n",
    "    PENALTY = 'Penalty'\n",
    "    df[PENALTY] = None\n",
    "    for u in set(df.User):\n",
    "        penalty = {k: 0 for k in ascii_uppercase}\n",
    "        done = {k: False for k in ascii_uppercase}\n",
    "        accum = 0\n",
    "        for e, iid in zip(df[df.User == u].values, df.loc[df.User == u].index):\n",
    "            time = e[3]\n",
    "            accepted = e[e.shape[0]-2]\n",
    "            problem = e[4]\n",
    "            if done[problem]:\n",
    "                continue\n",
    "            if accepted == 1:  # if solution was accepted, pane\n",
    "                accum += time + penalty[problem]\n",
    "                df.loc[iid, PENALTY] = accum\n",
    "                penalty[problem] = 0\n",
    "                done[problem] = True\n",
    "            else:\n",
    "                df.loc[iid, PENALTY] = accum\n",
    "                penalty[problem] += 20\n",
    "\n",
    "    return df"
   ]
  },
  {
   "cell_type": "code",
   "execution_count": 127,
   "metadata": {},
   "outputs": [],
   "source": [
    "folder_path = os.path.join(utils.OUTPUT_PATH,'submissoes/')\n",
    "scoreboard_path = os.path.join(utils.OUTPUT_PATH,'scoreboards/')\n",
    "years = os.listdir(folder_path)\n",
    "\n",
    "for year in years:\n",
    "    if 'pre_processado' in year:\n",
    "        continue\n",
    "    path = os.path.join(folder_path, year)\n",
    "    df = pd.read_csv(path, skiprows=1)\n",
    "    team_names = pd.read_csv(os.path.join(scoreboard_path, year), skiprows=1).Name\n",
    "\n",
    "    # Clean existing columns\n",
    "    df['Problem'] = df['Problem'].apply(lambda row: get_problem_letter(row))\n",
    "    df['AnswerBin'] = df['Answer'].apply(lambda row: get_answer_bin(row))\n",
    "    # Add university to team name if possible\n",
    "    df['User'] = df['User'].apply(lambda row: get_team_name(row, team_names))\n",
    "    # Calculate penalty\n",
    "    df = calculate_penalty(df)\n",
    "    path_to_csv = os.path.join(folder_path, 'pre_processado_' + str(year))\n",
    "    utils.save_as_csv(df, path_to_csv)"
   ]
  }
 ],
 "metadata": {
  "kernelspec": {
   "display_name": "Python 3",
   "language": "python",
   "name": "python3"
  },
  "language_info": {
   "codemirror_mode": {
    "name": "ipython",
    "version": 3
   },
   "file_extension": ".py",
   "mimetype": "text/x-python",
   "name": "python",
   "nbconvert_exporter": "python",
   "pygments_lexer": "ipython3",
   "version": "3.5.2"
  }
 },
 "nbformat": 4,
 "nbformat_minor": 2
}
