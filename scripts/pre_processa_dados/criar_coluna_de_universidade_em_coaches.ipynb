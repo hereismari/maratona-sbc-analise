{
 "cells": [
  {
   "cell_type": "markdown",
   "metadata": {},
   "source": [
    "# Cria coluna relativa a universidade na tabela coaches\n",
    "\n",
    "\n",
    "## Dependências"
   ]
  },
  {
   "cell_type": "code",
   "execution_count": 1,
   "metadata": {},
   "outputs": [],
   "source": [
    "# encoding: utf-8\n",
    "\n",
    "import os\n",
    "import sys\n",
    "\n",
    "# to import utils\n",
    "sys.path.append('../')\n",
    "\n",
    "import pandas as pd\n",
    "import utils"
   ]
  },
  {
   "cell_type": "markdown",
   "metadata": {},
   "source": [
    "## Buscar dados como Dataframe Panda"
   ]
  },
  {
   "cell_type": "code",
   "execution_count": 2,
   "metadata": {},
   "outputs": [
    {
     "name": "stdout",
     "output_type": "stream",
     "text": [
      "    ano                      time                coach\n",
      "0  2016                ufpe - 0xe      katia guimarães\n",
      "1  2016                ufpe - 0xe         gustavo stor\n",
      "2  2016  unicamp - veni vidi codi        fabio usberti\n",
      "3  2016  unicamp - veni vidi codi          ivan petrin\n",
      "4  2016  unicamp - veni vidi codi  lucas porto maziero\n"
     ]
    }
   ],
   "source": [
    "df = utils.load_csv(os.path.join(utils.OUTPUT_PATH, 'coaches.csv'))\n",
    "utils.print_info(df)"
   ]
  },
  {
   "cell_type": "markdown",
   "metadata": {},
   "source": [
    "## Criar novas colunas"
   ]
  },
  {
   "cell_type": "code",
   "execution_count": 3,
   "metadata": {},
   "outputs": [
    {
     "name": "stdout",
     "output_type": "stream",
     "text": [
      "    ano            time                coach universidade\n",
      "0  2016             0xe      katia guimarães         UFPE\n",
      "1  2016             0xe         gustavo stor         UFPE\n",
      "2  2016  veni vidi codi        fabio usberti      UNICAMP\n",
      "3  2016  veni vidi codi          ivan petrin      UNICAMP\n",
      "4  2016  veni vidi codi  lucas porto maziero      UNICAMP\n"
     ]
    }
   ],
   "source": [
    "df = utils.add_universidade_column(df)\n",
    "df = utils.add_time_column(df)\n",
    "utils.print_info(df)"
   ]
  },
  {
   "cell_type": "markdown",
   "metadata": {},
   "source": [
    "## Limpar coluna com nome dos coaches"
   ]
  },
  {
   "cell_type": "code",
   "execution_count": 4,
   "metadata": {},
   "outputs": [
    {
     "name": "stdout",
     "output_type": "stream",
     "text": [
      "[2007 'np-rosa-choque' 'alberto miranda' 'UNICAMP']\n",
      "[2007 'gap' 'alberto miranda' 'UNICAMP']\n",
      "[2009 'ic /* no comments */' 'alberto miranda' 'UNICAMP']\n",
      "[2009 'kmp' 'alberto miranda' 'UNICAMP']\n",
      "[2008 'merputação' 'alberto miranda' 'UNICAMP']\n",
      "[2008 'tampureção' 'alberto miranda' 'UNICAMP']\n",
      "[2008 'triforce' 'andré guedes' 'UFPR']\n",
      "[2007 'triforce' 'andré guedes' 'UFPR']\n",
      "[2010 'iriariari baloes mano' 'andré souza' 'UFRJ']\n",
      "[2010 'auhauhuahuhauah' 'andré souza' 'UFRJ']\n",
      "[2011 'comp-ele error' 'armando gouveia' 'ITA']\n",
      "[2012 'jquery bool, jquery char!' 'armando gouveia' 'ITA']\n",
      "[2012 'margarita' 'armando gouveia' 'ITA']\n",
      "[2011 'inkognita' 'armando gouveia' 'ITA']\n",
      "[2009 'carteado' 'armando gouveia' 'ITA']\n",
      "[2017 'calopsita' 'armando gouveia' 'ITA']\n",
      "[2007 'o que é overflow?' 'armando gouveia' 'ITA']\n",
      "[2015 'pgrnsue' 'armando gouveia' 'ITA']\n",
      "[2009 'kryptonita' 'armando gouveia' 'ITA']\n",
      "[2010 'carteado' 'armando gouveia' 'ITA']\n",
      "[2010 'eita!' 'armando gouveia' 'ITA']\n",
      "[2014 'cpf na nota?' 'armando gouveia' 'ITA']\n",
      "[2008 'null' 'berilhes garcia' 'UFES']\n",
      "[2015 'bob' 'bianca oe' 'USP-SC']\n",
      "[2011 '* da trypanossoma' 'bruno ribas' 'UFPR']\n",
      "[2010 'grito da trypanossoma' 'bruno ribas' 'UFPR']\n",
      "[2017 'trei linha' 'bruno sanches' 'USP-SC']\n",
      "[2016 'ginga com tapioca' 'carlos prolo' 'UFRN']\n",
      "[2017 'ginga com tapioca' 'carlos prolo' 'UFRN']\n",
      "[2008 'guerreiros da poli' 'carlos stein naves de brito' 'POLI-USP']\n",
      "[2017 'lorem ipsum' 'claudia justel' 'IME']\n",
      "[2007 'atlântico' 'claudia justel' 'IME']\n",
      "[2013 'timelino' 'claudia justel' 'IME']\n",
      "[2014 'zuera++' 'claudia justel' 'IME']\n",
      "[2009 'falha de segmentasamba' 'daniel fleischman' 'PUC-RIO']\n",
      "[2009 'dynasty of samba' 'daniel fleischman' 'PUC-RIO']\n",
      "[2009 'morte ao luis fernando' 'daniel santana de freitas' 'UFSC']\n",
      "[2017 'trei linha' 'danilo tedeschi' 'USP-SC']\n",
      "[2014 'code fu pandas' 'davi pinheiro' 'UFPE']\n",
      "[2014 'literally tourists' 'dilson guimarães' 'UFMG']\n",
      "[2011 'double cheeseburger' 'douglas cardoso' 'UFRJ']\n",
      "[2016 'veni vidi codi' 'fabio usberti' 'UNICAMP']\n",
      "[2015 'biblethump' 'fabio usberti' 'UNICAMP']\n",
      "[2013 'ñtemtempabobagi' 'filipe de carvalho nascimento' 'USP-SC']\n",
      "[2017 'lorem ipsum' 'geraldo avelino' 'IME']\n",
      "[2016 'lorem ipsum' 'geraldo avelino' 'IME']\n",
      "[2010 'alfa' 'guilherme kunigami' 'UNICAMP']\n",
      "[2016 'wickaninnish' 'gustavo stor' 'UFPE']\n",
      "[2016 '0xe' 'gustavo stor' 'UFPE']\n",
      "[2012 'in rand() we trust!' 'henrique pinto' 'UFMG']\n",
      "[2016 'where are the monkeys' 'humberto longo' 'UFG']\n",
      "[2013 'monkeys' 'humberto longo' 'UFG']\n",
      "[2015 'ballions' 'israel silva' 'UFPE']\n",
      "[2015 'turing indecisos' 'israel silva' 'UFPE']\n",
      "[2010 'sudo' 'itamar viana' 'UFMG']\n",
      "[2016 'veni vidi codi' 'ivan petrin' 'UNICAMP']\n",
      "[2008 'posso ajudar?' 'jerffeson souza' 'UECE']\n",
      "[2007 'die aphthe schmerzen' 'jerffeson souza' 'UECE']\n",
      "[2011 'gcv' 'joão comba' 'UFRGS']\n",
      "[2016 '0xe' 'katia guimarães' 'UFPE']\n",
      "[2016 'wickaninnish' 'katia guimarães' 'UFPE']\n",
      "[2017 'alt' 'katia guimarães' 'UFPE']\n",
      "[2015 'starters edition' 'leonardo martinez' 'UFMG']\n",
      "[2011 'fulano, beltrano e sicrano' 'liliane salgado' 'UFPE']\n",
      "[2009 'pedrov, victorov e mairova' 'liliane salgado' 'UFPE']\n",
      "[2013 'não é só pelos 20 minutos' 'liliane salgado' 'UFPE']\n",
      "[2013 ' =(' 'liliane salgado' 'UFPE']\n",
      "[2011 'challenge accepted' 'liliane salgado' 'UFPE']\n",
      "[2008 'yathreesobas' 'liliane salgado' 'UFPE']\n",
      "[2008 'prático, cícero e heitor' 'liliane salgado' 'UFPE']\n",
      "[2012 'señora margarida' 'lucas cavalcante' 'USP-SC']\n",
      "[2016 'veni vidi codi' 'lucas porto maziero' 'UNICAMP']\n",
      "[2014 'rua do sabão' 'lucas tiago de castro jesus' 'UNICAMP']\n",
      "[2014 'paitheus quer ir embora' 'luiz cláudio theodoro' 'UFU']\n",
      "[2012 'coração das cartas' 'luiz silva' 'UFPE']\n",
      "[2012 '4 fun 2 win' 'luiz silva' 'UFPE']\n",
      "[2013 'i triple dare you' 'marcelo galvão povoa' 'UNICAMP']\n",
      "[2017 'esse é meu time' 'marcia cerioli' 'UFRJ']\n",
      "[2016 'esse é meu time' 'marcia cerioli' 'UFRJ']\n",
      "[2013 '#yeswecan read your mail' 'marcia rosana cerioli' 'UFRJ']\n",
      "[2012 'using namespace none;' 'marcia rosana cerioli' 'UFRJ']\n",
      "[2014 \"guns n' codes\" 'marcia rosana cerioli' 'UFRJ']\n",
      "[2011 'up' 'marcio oshiro' 'IME-USP']\n",
      "[2013 'bitelo' 'marcio oshiro' 'USP-SP']\n",
      "[2013 'bpyym' 'marcio oshiro' 'USP-SP']\n",
      "[2014 'arquiduque andorinha' 'marcio oshiro' 'USP-SP']\n",
      "[2014 'i am root' 'marcio oshiro' 'USP-SP']\n",
      "[2010 'rga' 'marcio oshiro' 'POLI-USP']\n",
      "[2012 'vruum' 'marcio oshiro' 'POLI-USP']\n",
      "[2017 'dog hits dog' 'marcos kawakami' 'USP-SP']\n",
      "[2017 '¯\\\\_(\\xa0\"/\\xa0)_/¯' 'marcos kawakami' 'USP-SP']\n",
      "[2011 'unicamp alfa' 'mario cesar san felice' 'UNICAMP']\n",
      "[2017 'alt' 'mario henrique da silva' 'UFPE']\n",
      "[2016 'roberio e seu teclado' 'mauricio pamplona segundo' 'UFBA']\n",
      "[2015 'robério e seus teclados' 'mauricio pamplona segundo' 'UFBA']\n",
      "[2012 'os cartolas' 'murilo adriano vasconcelos' 'UNICAMP']\n",
      "[2012 'sudo make a sandwich' 'murilo da silva' 'UTFPR']\n",
      "[2010 'razão cruzada' 'pedro bello' 'UFPE']\n",
      "[2017 'ginga com tapioca' 'rafael gomes' 'UFRN']\n",
      "[2016 'ginga com tapioca' 'rafael gomes' 'UFRN']\n",
      "[2017 '¯\\\\_(\\xa0\"/\\xa0)_/¯' 'renzo gomez' 'USP-SP']\n",
      "[2017 'dog hits dog' 'renzo gomez' 'USP-SP']\n",
      "[2015 'sua mãe' 'renzo gomez' 'USP-SP']\n",
      "[2007 'cnuth, dijkstra & edmonds' 'roberto cavalcante' 'PUC-RIO']\n",
      "[2016 'epic sax guys' 'roberto costa' 'UNIFEI']\n",
      "[2017 'choose difficulty: titan' 'rohit gheyi' 'UFCG']\n",
      "[2017 'se juntas causa imagina juntas' 'rohit gheyi' 'UFCG']\n",
      "[2016 '!xor&!' 'rohit gheyi' 'UFCG']\n",
      "[2011 'modus ponens malditos' 'rohit gheyi' 'UFCG']\n",
      "[2014 'manoel borboleta e miguxos' 'rohit gheyi' 'UFCG']\n",
      "[2013 'calma pessoal, calma' 'rohit gheyi' 'UFCG']\n",
      "[2015 'abella e os feras' 'rohit gheyi' 'UFCG']\n",
      "[2016 'roberio e seu teclado' 'rubiley lemes' 'UFBA']\n",
      "[2017 'ginga com tapioca' 'sergio medeiros' 'UFRN']\n",
      "[2016 'ginga com tapioca' 'sergio medeiros' 'UFRN']\n",
      "[2015 'absurdo clássico: missão final' 'sergio medeiros' 'UFRN']\n",
      "[2008 'time limit exceeded' 'sergio peters' 'UFSC']\n",
      "[2009 'anuncie aqui' 'thadeu henrique rodrigues meneses' 'UFS']\n",
      "[2007 'nop' 'tiago mota' 'UFRJ']\n",
      "[2007 'anuncie aqui' 'vinicius almeida castro' 'UFS']\n",
      "[2009 'é muita grana' 'wanderley guimarães' 'IME-USP']\n",
      "[2008 'end of list' 'wanderley guimarães' 'IME-USP']\n",
      "[2007 'who wants to code forever' 'wanderley guimarães' 'IME-USP']\n",
      "[2010 'isso é tudo pessoal' 'wanderley guimarães da silva' 'IME-USP']\n"
     ]
    }
   ],
   "source": [
    "for e in df.sort_values('coach').values:\n",
    "    print(e)"
   ]
  },
  {
   "cell_type": "code",
   "execution_count": 5,
   "metadata": {},
   "outputs": [],
   "source": [
    "def clean_coach(df):\n",
    "    '''There are a coulpe of inconsistencies in the data.\n",
    "\n",
    "         1. marcia rosana cerioli -> marcia cerioli\n",
    "    '''\n",
    "    inconsistencies  = {\n",
    "        'marcia rosana cerioli': 'marcia cerioli',\n",
    "        'wanderley guimarães da silva': 'wanderley guimarães'\n",
    "    }\n",
    "    return utils.clean_data_map_values(df, 'coach', inconsistencies)\n",
    "\n",
    "df = clean_coach(df)"
   ]
  },
  {
   "cell_type": "markdown",
   "metadata": {},
   "source": [
    "## Salvar tabela preprocessada como CSV"
   ]
  },
  {
   "cell_type": "code",
   "execution_count": 6,
   "metadata": {},
   "outputs": [],
   "source": [
    "utils.save_as_csv(df, os.path.join(utils.OUTPUT_PATH, 'pre_processado_coaches.csv'))"
   ]
  }
 ],
 "metadata": {
  "kernelspec": {
   "display_name": "Python 3",
   "language": "python",
   "name": "python3"
  },
  "language_info": {
   "codemirror_mode": {
    "name": "ipython",
    "version": 3
   },
   "file_extension": ".py",
   "mimetype": "text/x-python",
   "name": "python",
   "nbconvert_exporter": "python",
   "pygments_lexer": "ipython3",
   "version": "3.5.2"
  }
 },
 "nbformat": 4,
 "nbformat_minor": 2
}
