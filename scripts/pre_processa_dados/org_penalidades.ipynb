{
 "cells": [
  {
   "cell_type": "code",
   "execution_count": 1,
   "metadata": {},
   "outputs": [],
   "source": [
    "# Python 3.x\n",
    "\n",
    "import pandas as pd\n",
    "import numpy as np"
   ]
  },
  {
   "cell_type": "code",
   "execution_count": null,
   "metadata": {},
   "outputs": [],
   "source": []
  },
  {
   "cell_type": "code",
   "execution_count": 2,
   "metadata": {},
   "outputs": [],
   "source": [
    "year_2015 = pd.read_csv('../../data/scoreboards/2015.csv', delimiter=',', skiprows=1)\n",
    "year_2016 = pd.read_csv('../../data/scoreboards/2016.csv', delimiter=',', skiprows=1)\n",
    "year_2017 = pd.read_csv('../../data/scoreboards/2017.csv', delimiter=',', skiprows=1)"
   ]
  },
  {
   "cell_type": "code",
   "execution_count": null,
   "metadata": {},
   "outputs": [],
   "source": []
  },
  {
   "cell_type": "code",
   "execution_count": 3,
   "metadata": {},
   "outputs": [],
   "source": [
    "def get_penalty(row):\n",
    "        \n",
    "    if str(row) == 'nan':\n",
    "        return row\n",
    "\n",
    "    else:    \n",
    "        splitted = str(row).split('/')\n",
    "        pen = splitted[-1]\n",
    "        \n",
    "        if pen == '-':\n",
    "            return np.nan\n",
    "        else:            \n",
    "            return pen "
   ]
  },
  {
   "cell_type": "code",
   "execution_count": null,
   "metadata": {},
   "outputs": [],
   "source": []
  },
  {
   "cell_type": "markdown",
   "metadata": {},
   "source": [
    "For years 2015 and 2016:"
   ]
  },
  {
   "cell_type": "code",
   "execution_count": 4,
   "metadata": {},
   "outputs": [
    {
     "name": "stdout",
     "output_type": "stream",
     "text": [
      "('E', 'occurred at index 0')\n"
     ]
    }
   ],
   "source": [
    "colunas_axis = 1\n",
    "for csv in [year_2015, year_2016]:\n",
    "    \n",
    "    df = csv\n",
    "    for l_code in range(ord('A'), ord('L')):\n",
    "\n",
    "        try:\n",
    "            col_name = chr(l_code) + \"_pen\"\n",
    "            df[col_name] = df.apply(lambda row: get_penalty(row[chr(l_code)]), axis=colunas_axis)\n",
    "        \n",
    "        except Exception as e:\n",
    "            print(str(e))\n",
    "            "
   ]
  },
  {
   "cell_type": "code",
   "execution_count": null,
   "metadata": {},
   "outputs": [],
   "source": []
  },
  {
   "cell_type": "markdown",
   "metadata": {},
   "source": [
    "For year 2017:"
   ]
  },
  {
   "cell_type": "code",
   "execution_count": 5,
   "metadata": {},
   "outputs": [],
   "source": [
    "df = year_2017\n",
    "\n",
    "for l_code in range(ord('A'), ord('N')):\n",
    "    col_name = chr(l_code) + \"_pen\"\n",
    "    df[col_name] = df.apply(lambda row: get_penalty(row[chr(l_code)]), axis=colunas_axis)"
   ]
  },
  {
   "cell_type": "code",
   "execution_count": null,
   "metadata": {},
   "outputs": [],
   "source": []
  },
  {
   "cell_type": "markdown",
   "metadata": {},
   "source": [
    "Saving csv's:"
   ]
  },
  {
   "cell_type": "code",
   "execution_count": 10,
   "metadata": {},
   "outputs": [],
   "source": [
    "dfs = [year_2015, year_2016, year_2017]\n",
    "\n",
    "for i, df in enumerate(dfs):\n",
    "    \n",
    "    y = 2015 + i\n",
    "    df.to_csv('../../data/scoreboards/pre_processado/' + str(y) + '.csv', index=False)"
   ]
  },
  {
   "cell_type": "code",
   "execution_count": null,
   "metadata": {},
   "outputs": [],
   "source": []
  },
  {
   "cell_type": "code",
   "execution_count": null,
   "metadata": {},
   "outputs": [],
   "source": []
  },
  {
   "cell_type": "code",
   "execution_count": null,
   "metadata": {},
   "outputs": [],
   "source": []
  }
 ],
 "metadata": {
  "kernelspec": {
   "display_name": "Python 2",
   "language": "python",
   "name": "python2"
  },
  "language_info": {
   "codemirror_mode": {
    "name": "ipython",
    "version": 3
   },
   "file_extension": ".py",
   "mimetype": "text/x-python",
   "name": "python",
   "nbconvert_exporter": "python",
   "pygments_lexer": "ipython3",
   "version": "3.5.2"
  }
 },
 "nbformat": 4,
 "nbformat_minor": 2
}
