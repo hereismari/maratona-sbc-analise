{
 "cells": [
  {
   "cell_type": "code",
   "execution_count": 1,
   "metadata": {},
   "outputs": [],
   "source": [
    "# Python 3.x\n",
    "\n",
    "import pandas as pd\n",
    "import numpy as np\n",
    "import os\n",
    "import re\n",
    "import string"
   ]
  },
  {
   "cell_type": "code",
   "execution_count": null,
   "metadata": {},
   "outputs": [],
   "source": []
  },
  {
   "cell_type": "code",
   "execution_count": 2,
   "metadata": {},
   "outputs": [],
   "source": [
    "def get_penalty(row):\n",
    "        \n",
    "    if str(row) == 'nan':\n",
    "        return row\n",
    "\n",
    "    else:    \n",
    "        splitted = str(row).split('/')\n",
    "        pen = splitted[-1]\n",
    "        \n",
    "        if pen == '-':\n",
    "            return np.nan\n",
    "        else:            \n",
    "            return pen "
   ]
  },
  {
   "cell_type": "code",
   "execution_count": 3,
   "metadata": {},
   "outputs": [],
   "source": [
    "def get_total_qsts(row):\n",
    "    \n",
    "    TOTAL_OF_PROBLEMS = 0\n",
    "    \n",
    "    row = re.sub('[()]', '', row)\n",
    "    splitted = row.split()\n",
    "    \n",
    "    return splitted[TOTAL_OF_PROBLEMS]"
   ]
  },
  {
   "cell_type": "code",
   "execution_count": 4,
   "metadata": {},
   "outputs": [],
   "source": [
    "def get_total_penalty(row):\n",
    "\n",
    "    TOTAL_PENALTY = -1\n",
    "    \n",
    "    row = re.sub('[()]', '', row)\n",
    "    splitted = row.split()\n",
    "    \n",
    "    return splitted[TOTAL_PENALTY]"
   ]
  },
  {
   "cell_type": "code",
   "execution_count": 5,
   "metadata": {},
   "outputs": [
    {
     "name": "stdout",
     "output_type": "stream",
     "text": [
      "('E', 'occurred at index 0')\n"
     ]
    }
   ],
   "source": [
    "folder_path = os.getcwd() + '/../../dados/scoreboards/'\n",
    "csvs = os.listdir(folder_path)\n",
    "\n",
    "colunas_axis = 1\n",
    "for csv in csvs:\n",
    "    \n",
    "    df = pd.read_csv(folder_path + csv, delimiter=',', skiprows=1)\n",
    "    \n",
    "    last_question = list(df.columns)[-2]\n",
    "    \n",
    "    for l_code in range(ord('A'), ord(last_question)):\n",
    "\n",
    "        try:\n",
    "            col_name = chr(l_code) + \"_pen\"\n",
    "            df[col_name] = df.apply(lambda row: get_penalty(row[chr(l_code)]), axis=colunas_axis)\n",
    "        \n",
    "        except Exception as e:\n",
    "            print(str(e))\n",
    "    \n",
    "    df['Total_Qst'] = df['Total'].apply(lambda row: get_total_qsts(row))\n",
    "    df['Total_Pen'] = df['Total'].apply(lambda row: get_total_penalty(row))\n",
    "    \n",
    "    df.to_csv(folder_path + 'pre_processado_' + csv, index=False)"
   ]
  },
  {
   "cell_type": "code",
   "execution_count": null,
   "metadata": {},
   "outputs": [],
   "source": []
  },
  {
   "cell_type": "code",
   "execution_count": null,
   "metadata": {},
   "outputs": [],
   "source": []
  },
  {
   "cell_type": "code",
   "execution_count": null,
   "metadata": {},
   "outputs": [],
   "source": []
  }
 ],
 "metadata": {
  "kernelspec": {
   "display_name": "Python 2",
   "language": "python",
   "name": "python2"
  },
  "language_info": {
   "codemirror_mode": {
    "name": "ipython",
    "version": 3
   },
   "file_extension": ".py",
   "mimetype": "text/x-python",
   "name": "python",
   "nbconvert_exporter": "python",
   "pygments_lexer": "ipython3",
   "version": "3.5.2"
  }
 },
 "nbformat": 4,
 "nbformat_minor": 2
}
