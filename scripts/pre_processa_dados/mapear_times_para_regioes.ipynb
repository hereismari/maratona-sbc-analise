{
 "cells": [
  {
   "cell_type": "markdown",
   "metadata": {},
   "source": [
    "# Mapear times para regiões e estados\n",
    "\n",
    "Os dados de universidades e regiões foram gerados quase que manualmente, caso encontre incosistência nos dados pode criar um Issue no repositório.\n",
    "\n",
    "## Dependências"
   ]
  },
  {
   "cell_type": "code",
   "execution_count": 1,
   "metadata": {},
   "outputs": [],
   "source": [
    "# encoding: utf-8\n",
    "\n",
    "import os\n",
    "import sys\n",
    "\n",
    "# to import utils\n",
    "sys.path.append('../')\n",
    "\n",
    "import pandas as pd\n",
    "import utils"
   ]
  },
  {
   "cell_type": "markdown",
   "metadata": {},
   "source": [
    "## Buscar dados como Dataframe Panda"
   ]
  },
  {
   "cell_type": "code",
   "execution_count": 2,
   "metadata": {},
   "outputs": [
    {
     "name": "stdout",
     "output_type": "stream",
     "text": [
      "    ano                      time                     competidor  reserva  \\\n",
      "0  2016                ufpe - 0xe  lucas almeida pereira de lima        0   \n",
      "1  2016                ufpe - 0xe                duhan caraciolo        0   \n",
      "2  2016                ufpe - 0xe        mario henrique da silva        0   \n",
      "3  2016  unicamp - veni vidi codi        guilherme bueno andrade        0   \n",
      "4  2016  unicamp - veni vidi codi        matheus de souza ataide        0   \n",
      "\n",
      "   classificado  posicao medalha  \n",
      "0             1        1    gold  \n",
      "1             1        1    gold  \n",
      "2             1        1    gold  \n",
      "3             1        2    gold  \n",
      "4             1        2    gold  \n"
     ]
    }
   ],
   "source": [
    "df_competidor = utils.load_csv(os.path.join(utils.OUTPUT_PATH, 'competidores.csv'))\n",
    "utils.print_info(df_competidor)"
   ]
  },
  {
   "cell_type": "code",
   "execution_count": 3,
   "metadata": {},
   "outputs": [
    {
     "name": "stdout",
     "output_type": "stream",
     "text": [
      "                                   universidade     sigla estado\n",
      "0                       ACADEMIA DA FORÇA AÉREA       AFA     SP\n",
      "1  ACADEMIA DA POLÍCIA CIVIL DO ESTADO DA BAHIA  ACADEPOL     BA\n",
      "2   ACADEMIA DE POLÍCIA MILITAR DO BARRO BRANCO     APMBB     SP\n",
      "3       ACADEMIA DE POLÍCIA MILITAR DOM JOÃO VI   APMDJVI     RJ\n",
      "4                   ACADEMIA DE POLÍCIA MILITAR       APM     BA\n"
     ]
    }
   ],
   "source": [
    "def get_universidades_data():\n",
    "    df = utils.load_csv(utils.UNIVERSIDADES_PATH)\n",
    "    df['sigla'] = [s.upper() for s in df['sigla']]\n",
    "    return df\n",
    "\n",
    "df_universidade = get_universidades_data()\n",
    "utils.print_info(df_universidade)"
   ]
  },
  {
   "cell_type": "code",
   "execution_count": 4,
   "metadata": {},
   "outputs": [
    {
     "name": "stdout",
     "output_type": "stream",
     "text": [
      "     estado sigla    regiao\n",
      "0      Acre    AC     Norte\n",
      "1   Alagoas    AL     Norte\n",
      "2     Amapá    AP     Norte\n",
      "3  Amazonas    AM     Norte\n",
      "4     Bahia    BA  Nordeste\n"
     ]
    }
   ],
   "source": [
    "df_regioes = utils.load_csv(utils.REGIOES_PATH)\n",
    "utils.print_info(df_regioes)"
   ]
  },
  {
   "cell_type": "markdown",
   "metadata": {},
   "source": [
    "## Limpar e criar novas colunas na tabela competidores"
   ]
  },
  {
   "cell_type": "code",
   "execution_count": 5,
   "metadata": {},
   "outputs": [],
   "source": [
    "def add_estado_column(df_competidor, df_universidade):\n",
    "    df_competidor['estado'] = [df_universidade.loc[df_universidade['sigla'] == e]['estado'].iloc[0]\n",
    "                               for e in df_competidor['universidade']]\n",
    "    return df_competidor\n",
    "\n",
    "\n",
    "def add_regioes_column(df_competidor, df_regioes):\n",
    "    df_competidor['regiao'] = [df_regioes.loc[df_regioes['sigla'] == e]['regiao'].iloc[0]\n",
    "                               for e in df_competidor['estado']]\n",
    "    return df_competidor"
   ]
  },
  {
   "cell_type": "code",
   "execution_count": 6,
   "metadata": {},
   "outputs": [],
   "source": [
    "df_competidor = utils.add_universidade_column(df_competidor)\n",
    "df_competidor = utils.add_time_column(df_competidor)\n",
    "df_competidor = add_estado_column(df_competidor, df_universidade)\n",
    "df_competidor = add_regioes_column(df_competidor, df_regioes)"
   ]
  },
  {
   "cell_type": "markdown",
   "metadata": {},
   "source": [
    "## Salvar tabela preprocessada como CSV"
   ]
  },
  {
   "cell_type": "code",
   "execution_count": 7,
   "metadata": {},
   "outputs": [],
   "source": [
    "utils.save_as_csv(df_competidor, os.path.join(utils.OUTPUT_PATH, 'pre_processado_competidores.csv'))"
   ]
  },
  {
   "cell_type": "code",
   "execution_count": 9,
   "metadata": {},
   "outputs": [
    {
     "name": "stdout",
     "output_type": "stream",
     "text": [
      "Universidades:\n",
      "UNICAMP\n",
      "UFPR\n",
      "UFRN\n",
      "IME\n",
      "UFCG\n",
      "IME-USP\n",
      "UFES\n",
      "UFG\n",
      "UFMG\n",
      "UFBA\n",
      "UFRJ\n",
      "UECE\n",
      "POLI-USP\n",
      "ITA\n",
      "USP-SC\n",
      "USP-SP\n",
      "UFSC\n",
      "PUC-RIO\n",
      "UFPE\n",
      "UFU\n",
      "UTFPR\n",
      "UFRGS\n",
      "UNIFEI\n",
      "UFS\n"
     ]
    }
   ],
   "source": [
    "print('Universidades:')\n",
    "for e in set(df_competidor.universidade):\n",
    "    print(e)"
   ]
  }
 ],
 "metadata": {
  "kernelspec": {
   "display_name": "Python 3",
   "language": "python",
   "name": "python3"
  },
  "language_info": {
   "codemirror_mode": {
    "name": "ipython",
    "version": 3
   },
   "file_extension": ".py",
   "mimetype": "text/x-python",
   "name": "python",
   "nbconvert_exporter": "python",
   "pygments_lexer": "ipython3",
   "version": "3.5.2"
  }
 },
 "nbformat": 4,
 "nbformat_minor": 2
}
