{
 "cells": [
  {
   "cell_type": "code",
   "execution_count": 19,
   "metadata": {},
   "outputs": [],
   "source": [
    "# Python 3.x\n",
    "\n",
    "import pandas as pd\n",
    "import numpy as np"
   ]
  },
  {
   "cell_type": "code",
   "execution_count": null,
   "metadata": {},
   "outputs": [],
   "source": []
  },
  {
   "cell_type": "code",
   "execution_count": 20,
   "metadata": {},
   "outputs": [],
   "source": [
    "def convert_perc(row):\n",
    "    VALUE = 0\n",
    "    splitted = str(row).split()\n",
    "    return splitted[VALUE]  "
   ]
  },
  {
   "cell_type": "code",
   "execution_count": 21,
   "metadata": {
    "scrolled": true
   },
   "outputs": [],
   "source": [
    "csvs = ['languages',\n",
    "       'languages_x_answers',\n",
    "       'problems',\n",
    "       'problems_x_answers',\n",
    "       'problems_x_languages',\n",
    "       'users_x_problems']\n",
    "\n",
    "for year in [2015, 2016, 2017]:\n",
    "    \n",
    "    for csv in csvs:\n",
    "    \n",
    "        path = '../../data/statistics/' + str(year) + '/' + csv + \".csv\"\n",
    "        df = pd.read_csv(path, delimiter=',', skiprows=1)\n",
    "        \n",
    "        for column in df:\n",
    "            df[str(column)] = df[str(column)].apply(lambda row: convert_perc(row))\n",
    "        \n",
    "        path_to_csv = '../../data/statistics/' + str(year) + '/' + csv + '_pre_processado'+ \".csv\"\n",
    "        df.to_csv(path_to_csv, index=False)\n",
    "            \n",
    "            "
   ]
  },
  {
   "cell_type": "code",
   "execution_count": null,
   "metadata": {},
   "outputs": [],
   "source": []
  }
 ],
 "metadata": {
  "kernelspec": {
   "display_name": "Python 3",
   "language": "python",
   "name": "python3"
  },
  "language_info": {
   "codemirror_mode": {
    "name": "ipython",
    "version": 3
   },
   "file_extension": ".py",
   "mimetype": "text/x-python",
   "name": "python",
   "nbconvert_exporter": "python",
   "pygments_lexer": "ipython3",
   "version": "3.5.2"
  }
 },
 "nbformat": 4,
 "nbformat_minor": 2
}
