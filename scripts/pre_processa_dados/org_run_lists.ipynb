{
 "cells": [
  {
   "cell_type": "code",
   "execution_count": 1,
   "metadata": {},
   "outputs": [],
   "source": [
    "# Python 3.x\n",
    "\n",
    "import pandas as pd\n",
    "import numpy as np\n",
    "import os"
   ]
  },
  {
   "cell_type": "code",
   "execution_count": null,
   "metadata": {},
   "outputs": [],
   "source": []
  },
  {
   "cell_type": "code",
   "execution_count": 2,
   "metadata": {},
   "outputs": [],
   "source": [
    "def get_problem_letter(row):\n",
    "    return row[0]"
   ]
  },
  {
   "cell_type": "code",
   "execution_count": 3,
   "metadata": {},
   "outputs": [],
   "source": [
    "def get_answer_bin(row):\n",
    "    \n",
    "    if \"NO\" in row:\n",
    "        return 0\n",
    "    else:\n",
    "        return 1"
   ]
  },
  {
   "cell_type": "code",
   "execution_count": 5,
   "metadata": {},
   "outputs": [],
   "source": [
    "folder_path = os.getcwd() + '/../../dados/submissoes/'\n",
    "years = os.listdir(folder_path)\n",
    "\n",
    "for year in years:\n",
    "        \n",
    "        path = folder_path + '/' + year\n",
    "        df = pd.read_csv(path, delimiter=',', skiprows=1)\n",
    "        \n",
    "        df['Problem'] = df['Problem'].apply(lambda row: get_problem_letter(row))\n",
    "        df['AnswerBin'] = df['Answer'].apply(lambda row: get_answer_bin(row))\n",
    "        \n",
    "        path_to_csv = folder_path + 'pre_processado_' + str(year)\n",
    "        df.to_csv(path_to_csv, index=False)"
   ]
  },
  {
   "cell_type": "code",
   "execution_count": null,
   "metadata": {},
   "outputs": [],
   "source": []
  }
 ],
 "metadata": {
  "kernelspec": {
   "display_name": "Python 3",
   "language": "python",
   "name": "python3"
  },
  "language_info": {
   "codemirror_mode": {
    "name": "ipython",
    "version": 3
   },
   "file_extension": ".py",
   "mimetype": "text/x-python",
   "name": "python",
   "nbconvert_exporter": "python",
   "pygments_lexer": "ipython3",
   "version": "3.5.2"
  }
 },
 "nbformat": 4,
 "nbformat_minor": 2
}
